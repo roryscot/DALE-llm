{
 "cells": [
  {
   "cell_type": "code",
   "execution_count": 9,
   "metadata": {},
   "outputs": [],
   "source": [
    "import os \n",
    "import openai\n"
   ]
  },
  {
   "cell_type": "code",
   "execution_count": null,
   "metadata": {},
   "outputs": [],
   "source": [
    "os.environ[\"OPENAI_API_KEY\"] = \"KEY_HERE\"\n",
    "openai.api_key = os.getenv(\"OPENAI_API_KEY\")\n"
   ]
  },
  {
   "cell_type": "code",
   "execution_count": 15,
   "metadata": {},
   "outputs": [],
   "source": [
    "from openai import OpenAI\n",
    "client = OpenAI()"
   ]
  },
  {
   "cell_type": "code",
   "execution_count": 16,
   "metadata": {},
   "outputs": [],
   "source": [
    "# Create shopping list and recipe function \n",
    "\n",
    "def create_shopping_list(recipe):\n",
    "    prompt = f\"Create a shopping list based on the follwoing recipe and foods that go well with it, as well as cooking instrucitons: {(recipe)}\"\n",
    "\n",
    "    return (prompt)"
   ]
  },
  {
   "cell_type": "code",
   "execution_count": 17,
   "metadata": {},
   "outputs": [
    {
     "name": "stdout",
     "output_type": "stream",
     "text": [
      "Create a shopping list based on the follwoing recipe and foods that go well with it, as well as cooking instrucitons: bbq pizza\n"
     ]
    }
   ],
   "source": [
    "# Function test\n",
    "recipe = create_shopping_list(\"bbq pizza\")\n",
    "\n",
    "print(recipe)"
   ]
  },
  {
   "cell_type": "code",
   "execution_count": 21,
   "metadata": {},
   "outputs": [
    {
     "name": "stdout",
     "output_type": "stream",
     "text": [
      "Shopping List:\n",
      "- Pizza dough (pre-made or ingredients to make your own)\n",
      "- BBQ sauce\n",
      "- Mozzarella cheese\n",
      "- Cooked chicken (shredded or diced)\n",
      "- Red onion\n",
      "- Fresh cilantro\n",
      "- Olive oil\n",
      "\n",
      "Optional toppings:\n",
      "- Bell peppers\n",
      "- Pineapple\n",
      "- Bacon\n",
      "- Jalapenos\n",
      "- Mushrooms\n",
      "\n",
      "Instructions:\n",
      "1. Preheat your oven to 425°F.\n",
      "2. Roll out the pizza dough on a floured surface to your desired thickness.\n",
      "3. Place the dough on a pizza stone or baking sheet.\n",
      "4. Brush the dough with olive oil.\n",
      "5. Spread BBQ sauce evenly over the dough, leaving a small border around the edges.\n",
      "6. Add a layer of mozzarella cheese on top of the BBQ sauce.\n",
      "7. Sprinkle the cooked chicken and red onion over the cheese.\n",
      "8. Add any optional toppings of your choice.\n",
      "9. Bake the pizza in the preheated oven for 12-15 minutes, or until the crust is golden brown and the cheese is bubbly.\n",
      "10. Remove the pizza from the oven and garnish with fresh cilantro before serving. Enjoy your delicious BBQ pizza!\n"
     ]
    }
   ],
   "source": [
    "response = client.chat.completions.create(\n",
    "    model = \"gpt-3.5-turbo\",\n",
    "    messages = [\n",
    "        {\n",
    "\n",
    "        \"role\": \"system\",\n",
    "        \"content\": recipe\n",
    "        }\n",
    "    ],\n",
    "    temperature = 0.7,\n",
    "    top_p = 1\n",
    ")\n",
    "\n",
    "print(response.choices[0].message.content)"
   ]
  },
  {
   "cell_type": "code",
   "execution_count": 23,
   "metadata": {},
   "outputs": [
    {
     "name": "stdout",
     "output_type": "stream",
     "text": [
      "['Pizza dough (pre-made or ingredients to make your own)', 'BBQ sauce', 'Mozzarella cheese', 'Cooked chicken (shredded or diced)', 'Red onion', 'Fresh cilantro', 'Olive oil', 'Bell peppers', 'Pineapple', 'Bacon', 'Jalapenos', 'Mushrooms']\n"
     ]
    }
   ],
   "source": [
    "import re\n",
    "\n",
    "text = response.choices[0].message.content\n",
    "\n",
    "pattern = re.compile(r'- (.+)')\n",
    "\n",
    "matches = pattern.findall(text)\n",
    "\n",
    "shopping_list = []\n",
    "\n",
    "for match in matches: \n",
    "    shopping_list.append(match)\n",
    "\n",
    "print(shopping_list)"
   ]
  },
  {
   "cell_type": "code",
   "execution_count": null,
   "metadata": {},
   "outputs": [
    {
     "name": "stdout",
     "output_type": "stream",
     "text": [
      "https://oaidalleapiprodscus.blob.core.windows.net/private/org-D82pQ6Q0RWpVMCb3SjfS9BCM/user-JQVukFjBkqDpL1gw9Cll1rTc/img-6616VLqF1Z5ohWtxfBuYMf2C.png?st=2024-11-14T22%3A45%3A41Z&se=2024-11-15T00%3A45%3A41Z&sp=r&sv=2024-08-04&sr=b&rscd=inline&rsct=image/png&skoid=d505667d-d6c1-4a0a-bac7-5c84a87759f8&sktid=a48cca56-e6da-484e-a814-9c849652bcb3&skt=2024-11-14T20%3A15%3A17Z&ske=2024-11-15T20%3A15%3A17Z&sks=b&skv=2024-08-04&sig=Y7ZaKrMrwHny8f7JQ/eWmV/ns%2BSCi3SyYb8aetG5UV4%3D\n"
     ]
    }
   ],
   "source": [
    "# generate images with dale\n",
    "\n",
    "image_response = client.images.generate(\n",
    "    model = \"dall-e-3\",\n",
    "    prompt=shopping_list[0],\n",
    "    size=\"1024x1024\",\n",
    "    quality=\"standard\",\n",
    "    n=1\n",
    ")\n",
    "\n",
    "image_response_url = image_response.data[0].url #map over whole list \n",
    "\n",
    "print(image_response_url)"
   ]
  }
 ],
 "metadata": {
  "kernelspec": {
   "display_name": ".venv",
   "language": "python",
   "name": "python3"
  },
  "language_info": {
   "codemirror_mode": {
    "name": "ipython",
    "version": 3
   },
   "file_extension": ".py",
   "mimetype": "text/x-python",
   "name": "python",
   "nbconvert_exporter": "python",
   "pygments_lexer": "ipython3",
   "version": "3.12.1"
  }
 },
 "nbformat": 4,
 "nbformat_minor": 2
}
